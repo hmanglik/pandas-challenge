{
 "cells": [
  {
   "cell_type": "markdown",
   "metadata": {},
   "source": [
    "### Note\n",
    "* Instructions have been included for each segment. You do not have to follow them exactly, but they are included to help you think through the steps."
   ]
  },
  {
   "cell_type": "code",
   "execution_count": null,
   "metadata": {},
   "outputs": [],
   "source": [
    "# Dependencies and Setup\n",
    "import pandas as pd\n",
    "\n",
    "# File to Load (Remember to Change These)\n",
    "school_data_to_load = \"Resources/schools_complete.csv\"\n",
    "student_data_to_load = \"Resources/students_complete.csv\"\n",
    "\n",
    "# Read School and Student Data File and store into Pandas DataFrames\n",
    "school_data = pd.read_csv(school_data_to_load)\n",
    "student_data = pd.read_csv(student_data_to_load)\n",
    "\n",
    "# Combine the data into a single dataset.  \n",
    "school_data_complete = pd.merge(student_data, school_data, how=\"left\", on=[\"school_name\", \"school_name\"])"
   ]
  },
  {
   "cell_type": "markdown",
   "metadata": {},
   "source": [
    "## District Summary\n",
    "\n",
    "* Calculate the total number of schools\n",
    "\n",
    "* Calculate the total number of students\n",
    "\n",
    "* Calculate the total budget\n",
    "\n",
    "* Calculate the average math score \n",
    "\n",
    "* Calculate the average reading score\n",
    "\n",
    "* Calculate the percentage of students with a passing math score (70 or greater)\n",
    "\n",
    "* Calculate the percentage of students with a passing reading score (70 or greater)\n",
    "\n",
    "* Calculate the percentage of students who passed math **and** reading (% Overall Passing)\n",
    "\n",
    "* Create a dataframe to hold the above results\n",
    "\n",
    "* Optional: give the displayed data cleaner formatting"
   ]
  },
  {
   "cell_type": "code",
   "execution_count": null,
   "metadata": {},
   "outputs": [],
   "source": [
    "school_data_complete"
   ]
  },
  {
   "cell_type": "code",
   "execution_count": null,
   "metadata": {},
   "outputs": [],
   "source": [
    "# Finding the total number of schools\n",
    "school_total = len(school_data_complete[\"School ID\"].unique())\n",
    "school_total\n",
    "\n",
    "# Finding the total number of students\n",
    "student_total = len(school_data_complete[\"Student ID\"].unique())\n",
    "student_total\n",
    "\n",
    "# Finding the total budget\n",
    "total_budget = sum(school_data_complete[\"budget\"].unique())\n",
    "total_budget\n",
    "\n",
    "# Average math score\n",
    "average_math_score = school_data_complete[\"math_score\"].mean()\n",
    "average_math_score\n",
    "\n",
    "# Average reading score\n",
    "average_reading_score = school_data_complete[\"reading_score\"].mean()\n",
    "average_reading_score\n",
    "\n",
    "# Percentage of students with a passing math score\n",
    "percentage_students_passed_math = len(school_data_complete.loc[(school_data_complete[\"math_score\"] >= 70), :])/student_total *100\n",
    "percentage_students_passed_math\n",
    "\n",
    "# Percentage of students with a passing reading score\n",
    "percentage_students_passed_reading = len(school_data_complete.loc[(school_data_complete[\"reading_score\"] >= 70), :])/student_total *100\n",
    "percentage_students_passed_reading\n",
    "\n",
    "# Percentage of students that passed both math and reading\n",
    "percentage_students_passed_both = len(school_data_complete.loc[(school_data_complete[\"math_score\"] >= 70) & (school_data_complete[\"reading_score\"] >= 70), :])/student_total *100 \n",
    "percentage_students_passed_both\n",
    "\n",
    "# Create data frame to hold results\n",
    "district_dicts = {\"Total Schools\": [school_total], \"Total Students\": [student_total],  \n",
    "                   \"Total Budget\": [total_budget], \"Average Math Score\": [average_math_score], \n",
    "                   \"Average Reading Score\": [average_reading_score], \"% Passing Math\":\n",
    "                  [percentage_students_passed_math], \"% Passing Reading\": [percentage_students_passed_reading], \n",
    "                   \"% Overall Passing\": [percentage_students_passed_both]}\n",
    "\n",
    "district_df = pd.DataFrame(district_dicts)\n",
    "\n",
    "# Formatting\n",
    "district_df[\"Total Students\"] = district_df[\"Total Students\"].map(\"{:,}\".format)\n",
    "district_df[\"Total Budget\"] = district_df[\"Total Budget\"].map(\"${:,.2f}\".format)\n",
    "district_df"
   ]
  },
  {
   "cell_type": "markdown",
   "metadata": {},
   "source": [
    "## School Summary"
   ]
  },
  {
   "cell_type": "markdown",
   "metadata": {},
   "source": [
    "* Create an overview table that summarizes key metrics about each school, including:\n",
    "  * School Name\n",
    "  * School Type\n",
    "  * Total Students\n",
    "  * Total School Budget\n",
    "  * Per Student Budget\n",
    "  * Average Math Score\n",
    "  * Average Reading Score\n",
    "  * % Passing Math\n",
    "  * % Passing Reading\n",
    "  * % Overall Passing (The percentage of students that passed math **and** reading.)\n",
    "  \n",
    "* Create a dataframe to hold the above results"
   ]
  },
  {
   "cell_type": "code",
   "execution_count": null,
   "metadata": {},
   "outputs": [],
   "source": [
    "# School Names\n",
    "school_names = school_data_complete.set_index(\"school_name\").groupby([\"school_name\"])\n",
    "\n",
    "# School type  \n",
    "school_types = school_data.set_index(\"school_name\")[\"type\"]\n",
    "\n",
    "# Total students\n",
    "total_students = school_names[\"Student ID\"].count()\n",
    "\n",
    "# Total school budget\n",
    "budget_total = school_data.set_index(\"school_name\")[\"budget\"]\n",
    "\n",
    "# Per student budget\n",
    "per_student = budget_total/total_students\n",
    "\n",
    "# Average Math score\n",
    "avg_math_score = school_names[\"math_score\"].mean()\n",
    "\n",
    "# Average Reading score\n",
    "avg_reading_score = school_names[\"reading_score\"].mean()\n",
    "\n",
    "# Percent passing math \n",
    "percent_passing_math = school_data_complete.loc[school_data_complete[\"math_score\"] >= 70].groupby(\"school_name\")[\"Student ID\"].count()/total_students* 100\n",
    "\n",
    "# Percent passing reading \n",
    "percent_passing_reading = school_data_complete.loc[school_data_complete[\"reading_score\"] >= 70].groupby(\"school_name\")[\"Student ID\"].count()/total_students* 100\n",
    "\n",
    "# Percent overall passing\n",
    "percent_overall_passing = school_data_complete.loc[(school_data_complete[\"math_score\"] >= 70) & (school_data_complete[\"reading_score\"] >= 70)].groupby(\"school_name\")[\"Student ID\"].count()/total_students * 100\n",
    "\n",
    "# Making a DataFrame\n",
    "school_dicts = {\"School Type\": school_types, \"Total Students\": total_students,  \n",
    "                   \"Total School Budget\": budget_total, \"Per Student Budget\": per_student, \n",
    "                    \"Average Math Score\": avg_math_score, \"Average Reading Score\": avg_reading_score, \n",
    "                \"% Passing Math\": percent_passing_math, \"% Passing Reading\": percent_passing_reading, \n",
    "                   \"% Overall Passing\": percent_overall_passing}\n",
    "school_df = pd.DataFrame(school_dicts)\n",
    "\n",
    "#Formatting\n",
    "school_df[\"Total School Budget\"] = school_df[\"Total School Budget\"].map(\"${:,.2f}\".format)\n",
    "school_df[\"Per Student Budget\"] = school_df[\"Per Student Budget\"].map(\"${:,.2f}\".format)\n",
    "school_df\n"
   ]
  },
  {
   "cell_type": "markdown",
   "metadata": {},
   "source": [
    "## Top Performing Schools (By % Overall Passing)"
   ]
  },
  {
   "cell_type": "code",
   "execution_count": null,
   "metadata": {
    "scrolled": true
   },
   "outputs": [],
   "source": [
    "top_df = school_df.sort_values(\"% Overall Passing\", ascending=False)\n",
    "top_df.head()"
   ]
  },
  {
   "cell_type": "markdown",
   "metadata": {},
   "source": [
    "* Sort and display the top five performing schools by % overall passing."
   ]
  },
  {
   "cell_type": "markdown",
   "metadata": {},
   "source": [
    "## Bottom Performing Schools (By % Overall Passing)"
   ]
  },
  {
   "cell_type": "markdown",
   "metadata": {},
   "source": [
    "* Sort and display the five worst-performing schools by % overall passing."
   ]
  },
  {
   "cell_type": "code",
   "execution_count": null,
   "metadata": {},
   "outputs": [],
   "source": [
    "bottom_df = school_df.sort_values(\"% Overall Passing\")\n",
    "bottom_df.head()"
   ]
  },
  {
   "cell_type": "markdown",
   "metadata": {
    "collapsed": true
   },
   "source": [
    "## Math Scores by Grade"
   ]
  },
  {
   "cell_type": "markdown",
   "metadata": {},
   "source": [
    "* Create a table that lists the average Reading Score for students of each grade level (9th, 10th, 11th, 12th) at each school.\n",
    "\n",
    "  * Create a pandas series for each grade. Hint: use a conditional statement.\n",
    "  \n",
    "  * Group each series by school\n",
    "  \n",
    "  * Combine the series into a dataframe\n",
    "  \n",
    "  * Optional: give the displayed data cleaner formatting"
   ]
  },
  {
   "cell_type": "code",
   "execution_count": null,
   "metadata": {},
   "outputs": [],
   "source": [
    "math_ninth = school_data_complete.loc[school_data_complete[\"grade\"] == \"9th\"].groupby(\"school_name\")[\"math_score\"].mean()\n",
    "\n",
    "math_tenth = school_data_complete.loc[school_data_complete[\"grade\"] == \"10th\"].groupby(\"school_name\")[\"math_score\"].mean()\n",
    "\n",
    "math_eleventh = school_data_complete.loc[school_data_complete[\"grade\"] == \"11th\"].groupby(\"school_name\")[\"math_score\"].mean()\n",
    "\n",
    "math_twelfth = school_data_complete.loc[school_data_complete[\"grade\"] == \"12th\"].groupby(\"school_name\")[\"math_score\"].mean()\n",
    "\n",
    "math_dicts = {\"9th\": math_ninth, \"10th\": math_tenth, \"11th\": math_eleventh, \"12th\": math_twelfth}\n",
    "math_df = pd.DataFrame(math_dicts)\n",
    "math_df = math_df.rename_axis(None)\n",
    "math_df"
   ]
  },
  {
   "cell_type": "markdown",
   "metadata": {},
   "source": [
    "* Perform the same operations as above for reading scores"
   ]
  },
  {
   "cell_type": "code",
   "execution_count": null,
   "metadata": {},
   "outputs": [],
   "source": [
    "reading_ninth = school_data_complete.loc[school_data_complete[\"grade\"] == \"9th\"].groupby(\"school_name\")[\"reading_score\"].mean()\n",
    "\n",
    "reading_tenth = school_data_complete.loc[school_data_complete[\"grade\"] == \"10th\"].groupby(\"school_name\")[\"reading_score\"].mean()\n",
    "\n",
    "reading_eleventh = school_data_complete.loc[school_data_complete[\"grade\"] == \"11th\"].groupby(\"school_name\")[\"reading_score\"].mean()\n",
    "\n",
    "reading_twelfth = school_data_complete.loc[school_data_complete[\"grade\"] == \"12th\"].groupby(\"school_name\")[\"reading_score\"].mean()\n",
    "\n",
    "reading_dicts = {\"9th\": reading_ninth, \"10th\": reading_tenth, \"11th\": reading_eleventh, \"12th\": reading_twelfth}\n",
    "reading_df = pd.DataFrame(reading_dicts)\n",
    "reading_df = reading_df.rename_axis(None)\n",
    "reading_df"
   ]
  },
  {
   "cell_type": "markdown",
   "metadata": {},
   "source": [
    "## Scores by School Spending"
   ]
  },
  {
   "cell_type": "markdown",
   "metadata": {},
   "source": [
    "* Create a table that breaks down school performances based on average Spending Ranges (Per Student). Use 4 reasonable bins to group school spending. Include in the table each of the following:\n",
    "  * Average Math Score\n",
    "  * Average Reading Score\n",
    "  * % Passing Math\n",
    "  * % Passing Reading\n",
    "  * Overall Passing Rate (Average of the above two)"
   ]
  },
  {
   "cell_type": "code",
   "execution_count": null,
   "metadata": {
    "scrolled": false
   },
   "outputs": [],
   "source": [
    "# Binning\n",
    "spending_bins = [0, 585, 630, 645, 675]\n",
    "spending_groups = [\"<$584\", \"$585-629\", \"$630-644\", \"$645-675\"]\n",
    "school_data_complete[\"Spending Ranges\"] = pd.cut(school_data_complete[\"budget\"]/school_data_complete[\"size\"], spending_bins, labels = spending_groups)\n",
    "\n",
    "# Group By\n",
    "by_spending = school_data_complete.groupby(\"Spending Ranges\")\n",
    "\n",
    "# Calculations\n",
    "average_math = by_spending[\"math_score\"].mean()\n",
    "average_read = by_spending[\"reading_score\"].mean()\n",
    "pass_math = school_data_complete[school_data_complete[\"math_score\"] >= 70].groupby(\"Spending Ranges\")[\"Student ID\"].count()/by_spending[\"Student ID\"].count() * 100\n",
    "pass_read = school_data_complete[school_data_complete[\"reading_score\"] >= 70].groupby(\"Spending Ranges\")[\"Student ID\"].count()/by_spending[\"Student ID\"].count() * 100\n",
    "overall_pass = school_data_complete[(school_data_complete[\"math_score\"] >= 70) & (school_data_complete[\"reading_score\"] >= 70)].groupby(\"Spending Ranges\")[\"Student ID\"].count()/by_spending[\"Student ID\"].count() * 100\n",
    "\n",
    "# Making a DataFrame\n",
    "scores_spend = pd.DataFrame({\n",
    "    \"Average Math Score\": average_math,\n",
    "    \"Average Reading Score\": average_read,\n",
    "    \"% Passing Math\": pass_math,\n",
    "    \"% Passing Reading\": pass_read,\n",
    "    \"Overall Passing Rate\": overall_pass})\n",
    "\n",
    "# Formatting \n",
    "scores_spend.index.name = \"Spending Ranges (Per Student)\"\n",
    "scores_spend[\"Average Math Score\"] = scores_spend[\"Average Math Score\"].map(\"{:,.2f}\".format)\n",
    "scores_spend[\"Average Reading Score\"] = scores_spend[\"Average Reading Score\"].map(\"{:,.2f}\".format)\n",
    "scores_spend[\"% Passing Math\"] = scores_spend[\"% Passing Math\"].map(\"{:,.2f}\".format)\n",
    "scores_spend[\"% Passing Reading\"] = scores_spend[\"% Passing Reading\"].map(\"{:,.2f}\".format)\n",
    "scores_spend[\"Overall Passing Rate\"] = scores_spend[\"Overall Passing Rate\"].map(\"{:,.2f}\".format)\n",
    "scores_spend"
   ]
  },
  {
   "cell_type": "markdown",
   "metadata": {},
   "source": [
    "* Perform the same operations as above, based on school size."
   ]
  },
  {
   "cell_type": "code",
   "execution_count": null,
   "metadata": {
    "scrolled": true
   },
   "outputs": [],
   "source": [
    "# Binning\n",
    "size_bins = [0, 1000, 2000, 5000]\n",
    "size_groups = [\"Small (<1000)\", \"Medium (1000-2000)\", \"Large (2000-5000)\"]\n",
    "school_data_complete[\"School Size\"] = pd.cut(school_data_complete[\"size\"], size_bins, labels = size_groups)\n",
    "\n",
    "# Group By\n",
    "by_size = school_data_complete.groupby(\"School Size\")\n",
    "\n",
    "# Calculations\n",
    "average_math = by_size[\"math_score\"].mean()\n",
    "average_read = by_size[\"reading_score\"].mean()\n",
    "pass_math = school_data_complete[school_data_complete[\"math_score\"] >= 70].groupby(\"School Size\")[\"Student ID\"].count()/by_size[\"Student ID\"].count() * 100\n",
    "pass_read = school_data_complete[school_data_complete[\"reading_score\"] >= 70].groupby(\"School Size\")[\"Student ID\"].count()/by_size[\"Student ID\"].count() * 100\n",
    "overall_pass = school_data_complete[(school_data_complete[\"math_score\"] >= 70) & (school_data_complete[\"reading_score\"] >= 70)].groupby(\"School Size\")[\"Student ID\"].count()/by_size[\"Student ID\"].count() * 100\n",
    "\n",
    "# Making a DataFrame\n",
    "scores_size = pd.DataFrame({\n",
    "    \"Average Math Score\": average_math,\n",
    "    \"Average Reading Score\": average_read,\n",
    "    \"% Passing Math\": pass_math,\n",
    "    \"% Passing Reading\": pass_read,\n",
    "    \"Overall Passing Rate\": overall_pass})\n",
    "scores_size"
   ]
  },
  {
   "cell_type": "markdown",
   "metadata": {},
   "source": [
    "## Scores by School Type"
   ]
  },
  {
   "cell_type": "markdown",
   "metadata": {},
   "source": [
    "* Perform the same operations as above, based on school type"
   ]
  },
  {
   "cell_type": "code",
   "execution_count": null,
   "metadata": {},
   "outputs": [],
   "source": [
    "# Group By\n",
    "by_type = school_data_complete.groupby(\"type\")\n",
    "\n",
    "# Calculations\n",
    "average_math = by_type[\"math_score\"].mean()\n",
    "average_read = by_type[\"reading_score\"].mean()\n",
    "pass_math = school_data_complete[school_data_complete[\"math_score\"] >= 70].groupby(\"type\")[\"Student ID\"].count()/by_type[\"Student ID\"].count() * 100\n",
    "pass_read = school_data_complete[school_data_complete[\"reading_score\"] >= 70].groupby(\"type\")[\"Student ID\"].count()/by_type[\"Student ID\"].count() * 100\n",
    "overall_pass = school_data_complete[(school_data_complete[\"math_score\"] >= 70) & (school_data_complete[\"reading_score\"] >= 70)].groupby(\"type\")[\"Student ID\"].count()/by_type[\"Student ID\"].count() * 100\n",
    "\n",
    "# Making a DataFrame\n",
    "scores_type = pd.DataFrame({\n",
    "    \"Average Math Score\": average_math,\n",
    "    \"Average Reading Score\": average_read,\n",
    "    \"% Passing Math\": pass_math,\n",
    "    \"% Passing Reading\": pass_read,\n",
    "    \"Overall Passing Rate\": overall_pass})\n",
    "\n",
    "# Formatting\n",
    "scores_type.index.name = \"School Type\"\n",
    "scores_type"
   ]
  }
 ],
 "metadata": {
  "anaconda-cloud": {},
  "kernel_info": {
   "name": "python3"
  },
  "kernelspec": {
   "display_name": "Python 3",
   "language": "python",
   "name": "python3"
  },
  "language_info": {
   "codemirror_mode": {
    "name": "ipython",
    "version": 3
   },
   "file_extension": ".py",
   "mimetype": "text/x-python",
   "name": "python",
   "nbconvert_exporter": "python",
   "pygments_lexer": "ipython3",
   "version": "3.7.6"
  },
  "latex_envs": {
   "LaTeX_envs_menu_present": true,
   "autoclose": false,
   "autocomplete": true,
   "bibliofile": "biblio.bib",
   "cite_by": "apalike",
   "current_citInitial": 1,
   "eqLabelWithNumbers": true,
   "eqNumInitial": 1,
   "hotkeys": {
    "equation": "Ctrl-E",
    "itemize": "Ctrl-I"
   },
   "labels_anchors": false,
   "latex_user_defs": false,
   "report_style_numbering": false,
   "user_envs_cfg": false
  },
  "nteract": {
   "version": "0.8.4"
  }
 },
 "nbformat": 4,
 "nbformat_minor": 1
}
